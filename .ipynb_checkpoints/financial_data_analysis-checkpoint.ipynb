{
 "cells": [
  {
   "cell_type": "code",
   "execution_count": 1,
   "id": "8a6d8a22-35ab-414c-b303-19a9d9d7ceff",
   "metadata": {},
   "outputs": [
    {
     "name": "stdout",
     "output_type": "stream",
     "text": [
      "C:\\Users\\efuet\n"
     ]
    }
   ],
   "source": [
    "import os\n",
    "print(os.getcwd())"
   ]
  },
  {
   "cell_type": "code",
   "execution_count": 16,
   "id": "74414a88-2319-4f38-85ad-327a609ed089",
   "metadata": {},
   "outputs": [
    {
     "name": "stdout",
     "output_type": "stream",
     "text": [
      "Requirement already satisfied: pandoc in c:\\users\\efuet\\appdata\\local\\programs\\python\\python310\\lib\\site-packages (2.4)\n",
      "Requirement already satisfied: plumbum in c:\\users\\efuet\\appdata\\local\\programs\\python\\python310\\lib\\site-packages (from pandoc) (1.9.0)\n",
      "Requirement already satisfied: ply in c:\\users\\efuet\\appdata\\local\\programs\\python\\python310\\lib\\site-packages (from pandoc) (3.11)\n",
      "Requirement already satisfied: pywin32 in c:\\users\\efuet\\appdata\\local\\programs\\python\\python310\\lib\\site-packages (from plumbum->pandoc) (308)\n",
      "Note: you may need to restart the kernel to use updated packages.\n"
     ]
    },
    {
     "name": "stderr",
     "output_type": "stream",
     "text": [
      "\n",
      "[notice] A new release of pip available: 22.3.1 -> 25.0.1\n",
      "[notice] To update, run: python.exe -m pip install --upgrade pip\n"
     ]
    }
   ],
   "source": [
    "pip install pandoc"
   ]
  },
  {
   "cell_type": "code",
   "execution_count": 1,
   "id": "cb39208e-3a40-42bf-9763-28ff2dab7245",
   "metadata": {},
   "outputs": [],
   "source": [
    "import pandas as pd\n",
    "import numpy as np"
   ]
  },
  {
   "cell_type": "code",
   "execution_count": 2,
   "id": "47a5b869-caee-4c67-a9be-7fbeb9846c5e",
   "metadata": {},
   "outputs": [],
   "source": [
    "# Load data\n",
    "df = pd.read_csv('10k filings  2022-2024 fy.csv')"
   ]
  },
  {
   "cell_type": "code",
   "execution_count": 3,
   "id": "20f398df-ae4d-4408-b915-083d04df0517",
   "metadata": {},
   "outputs": [],
   "source": [
    "# Ensure proper data types\n",
    "numeric_cols = ['Total Revenue', 'Net Income', 'Total Assets', 'Total Liabilities', \n",
    "                'Cash Flow from Operating Activities']\n",
    "df[numeric_cols] = df[numeric_cols].astype(float)"
   ]
  },
  {
   "cell_type": "code",
   "execution_count": 4,
   "id": "1ac83ccb-fc8d-4ffe-be3b-f7880de9fc08",
   "metadata": {},
   "outputs": [],
   "source": [
    "# Sort data chronologically within each company\n",
    "df = df.sort_values(['Company', 'Fiscal Year'])"
   ]
  },
  {
   "cell_type": "code",
   "execution_count": 5,
   "id": "19ffa49d-5454-4bed-96e1-44494707aab6",
   "metadata": {},
   "outputs": [
    {
     "name": "stdout",
     "output_type": "stream",
     "text": [
      "Original Data:\n",
      "   Fiscal Year    Company  Total Revenue  Net Income  Total Assets  \\\n",
      "5         2022      Apple         394.33       99.80        352.77   \n",
      "4         2023      Apple         383.29       97.00        352.60   \n",
      "3         2024      Apple         391.50       93.74        365.00   \n",
      "2         2022  Microsoft         198.27       72.74        364.80   \n",
      "1         2023  Microsoft         211.92       72.37        411.99   \n",
      "0         2024  Microsoft         245.12       88.14        512.20   \n",
      "8         2022      Tesla          81.47       12.60         82.34   \n",
      "7         2023      Tesla          96.77       14.99        106.62   \n",
      "6         2024      Tesla          97.70        7.20        122.10   \n",
      "\n",
      "   Total Liabilities  Cash Flow from Operating Activities  \n",
      "5             302.10                                35.93  \n",
      "4             290.44                                24.98  \n",
      "3             308.00                                30.74  \n",
      "2             198.30                                89.00  \n",
      "1             205.76                                87.59  \n",
      "0             243.69                               118.55  \n",
      "8              36.45                                14.72  \n",
      "7              43.10                                13.26  \n",
      "6              48.40                                14.92  \n"
     ]
    }
   ],
   "source": [
    "print(\"Original Data:\")\n",
    "print(df.head(9))"
   ]
  },
  {
   "cell_type": "code",
   "execution_count": 6,
   "id": "15b6abc1-a9e5-4523-b781-9bf983d0e613",
   "metadata": {},
   "outputs": [],
   "source": [
    "\n",
    "def calculate_growth_rate(group):\n",
    "    return group.pct_change() * 100\n"
   ]
  },
  {
   "cell_type": "code",
   "execution_count": 7,
   "id": "17bf1c2d-caa0-4a98-b366-4f5bbdcd6cea",
   "metadata": {},
   "outputs": [],
   "source": [
    "# Calculate revenue growth rate\n",
    "df['Revenue Growth (%)'] = df.groupby('Company')['Total Revenue'].apply(calculate_growth_rate).reset_index(level=0, drop=True)\n"
   ]
  },
  {
   "cell_type": "code",
   "execution_count": 8,
   "id": "f4a5dada-4ba8-48ca-98cb-46b18c230aca",
   "metadata": {},
   "outputs": [],
   "source": [
    "# Calculate net income growth rate\n",
    "df['Net Income Growth (%)'] = df.groupby('Company')['Net Income'].apply(calculate_growth_rate).reset_index(level=0, drop=True)"
   ]
  },
  {
   "cell_type": "code",
   "execution_count": 9,
   "id": "249b2393-8578-4225-b21a-ccc72a65cf22",
   "metadata": {},
   "outputs": [
    {
     "name": "stderr",
     "output_type": "stream",
     "text": [
      "C:\\Users\\efuet\\AppData\\Local\\Temp\\ipykernel_43916\\3554882240.py:2: FutureWarning: A value is trying to be set on a copy of a DataFrame or Series through chained assignment using an inplace method.\n",
      "The behavior will change in pandas 3.0. This inplace method will never work because the intermediate object on which we are setting values always behaves as a copy.\n",
      "\n",
      "For example, when doing 'df[col].method(value, inplace=True)', try using 'df.method({col: value}, inplace=True)' or df[col] = df[col].method(value) instead, to perform the operation inplace on the original object.\n",
      "\n",
      "\n",
      "  df['Revenue Growth (%)'].fillna(0, inplace=True)\n",
      "C:\\Users\\efuet\\AppData\\Local\\Temp\\ipykernel_43916\\3554882240.py:3: FutureWarning: A value is trying to be set on a copy of a DataFrame or Series through chained assignment using an inplace method.\n",
      "The behavior will change in pandas 3.0. This inplace method will never work because the intermediate object on which we are setting values always behaves as a copy.\n",
      "\n",
      "For example, when doing 'df[col].method(value, inplace=True)', try using 'df.method({col: value}, inplace=True)' or df[col] = df[col].method(value) instead, to perform the operation inplace on the original object.\n",
      "\n",
      "\n",
      "  df['Net Income Growth (%)'].fillna(0, inplace=True)\n"
     ]
    }
   ],
   "source": [
    "# Fill NaN values with 0 for the first row of each company\n",
    "df['Revenue Growth (%)'].fillna(0, inplace=True)\n",
    "df['Net Income Growth (%)'].fillna(0, inplace=True)"
   ]
  },
  {
   "cell_type": "code",
   "execution_count": 10,
   "id": "feb602ae-f7e1-4907-831c-71a6c428b96d",
   "metadata": {},
   "outputs": [
    {
     "name": "stdout",
     "output_type": "stream",
     "text": [
      "\n",
      "Final Data:\n",
      "   Fiscal Year    Company  Total Revenue  Net Income  Total Assets  \\\n",
      "5         2022      Apple         394.33       99.80        352.77   \n",
      "4         2023      Apple         383.29       97.00        352.60   \n",
      "3         2024      Apple         391.50       93.74        365.00   \n",
      "2         2022  Microsoft         198.27       72.74        364.80   \n",
      "1         2023  Microsoft         211.92       72.37        411.99   \n",
      "0         2024  Microsoft         245.12       88.14        512.20   \n",
      "8         2022      Tesla          81.47       12.60         82.34   \n",
      "7         2023      Tesla          96.77       14.99        106.62   \n",
      "6         2024      Tesla          97.70        7.20        122.10   \n",
      "\n",
      "   Total Liabilities  Cash Flow from Operating Activities  Revenue Growth (%)  \\\n",
      "5             302.10                                35.93            0.000000   \n",
      "4             290.44                                24.98           -2.799686   \n",
      "3             308.00                                30.74            2.141981   \n",
      "2             198.30                                89.00            0.000000   \n",
      "1             205.76                                87.59            6.884551   \n",
      "0             243.69                               118.55           15.666289   \n",
      "8              36.45                                14.72            0.000000   \n",
      "7              43.10                                13.26           18.779919   \n",
      "6              48.40                                14.92            0.961042   \n",
      "\n",
      "   Net Income Growth (%)  \n",
      "5               0.000000  \n",
      "4              -2.805611  \n",
      "3              -3.360825  \n",
      "2               0.000000  \n",
      "1              -0.508661  \n",
      "0              21.790797  \n",
      "8               0.000000  \n",
      "7              18.968254  \n",
      "6             -51.967979  \n"
     ]
    }
   ],
   "source": [
    "# Print the final data\n",
    "print(\"\\nFinal Data:\")\n",
    "print(df.head(9))"
   ]
  },
  {
   "cell_type": "code",
   "execution_count": 11,
   "id": "a02ab24d-27fe-49c0-b527-b04262fcdea4",
   "metadata": {},
   "outputs": [],
   "source": [
    "# Group by Company and calculate mean, median, and standard deviation for financial metrics\n",
    "grouped = df.groupby('Company').agg({\n",
    "    'Total Revenue': ['mean', 'median', 'std'],\n",
    "    'Net Income': ['mean', 'median', 'std'],\n",
    "    'Total Assets': ['mean', 'median', 'std'],\n",
    "    'Total Liabilities': ['mean', 'median', 'std'],\n",
    "    'Cash Flow from Operating Activities': ['mean', 'median', 'std']\n",
    "})\n"
   ]
  },
  {
   "cell_type": "code",
   "execution_count": 12,
   "id": "b23436b6-6795-4776-9b3f-34df5a87f360",
   "metadata": {},
   "outputs": [
    {
     "name": "stdout",
     "output_type": "stream",
     "text": [
      "\n",
      "Aggregate Statistics by Company:\n",
      "          Total Revenue                    Net Income                   \\\n",
      "                   mean  median        std       mean median       std   \n",
      "Company                                                                  \n",
      "Apple        389.706667  391.50   5.734321  96.846667  97.00  3.032908   \n",
      "Microsoft    218.436667  211.92  24.095245  77.750000  72.74  8.999906   \n",
      "Tesla         91.980000   96.77   9.113797  11.596667  12.60  3.990743   \n",
      "\n",
      "          Total Assets                    Total Liabilities          \\\n",
      "                  mean  median        std              mean  median   \n",
      "Company                                                               \n",
      "Apple       356.790000  352.77   7.110577        300.180000  302.10   \n",
      "Microsoft   429.663333  411.99  75.272505        215.916667  205.76   \n",
      "Tesla       103.686667  106.62  20.041650         42.650000   43.10   \n",
      "\n",
      "                     Cash Flow from Operating Activities                    \n",
      "                 std                                mean median        std  \n",
      "Company                                                                     \n",
      "Apple       8.936062                               30.55  30.74   5.477472  \n",
      "Microsoft  24.339914                               98.38  89.00  17.481954  \n",
      "Tesla       5.987696                               14.30  14.72   0.906201  \n"
     ]
    }
   ],
   "source": [
    "print(\"\\nAggregate Statistics by Company:\")\n",
    "print(grouped)"
   ]
  },
  {
   "cell_type": "code",
   "execution_count": 13,
   "id": "e0abcaf2-880d-4b5b-8964-da5893eb6192",
   "metadata": {},
   "outputs": [],
   "source": [
    "# Group by Fiscal Year and calculate total revenue and net income\n",
    "yearly_summary = df.groupby('Fiscal Year').agg({\n",
    "    'Total Revenue': 'sum',\n",
    "    'Net Income': 'sum'\n",
    "})"
   ]
  },
  {
   "cell_type": "code",
   "execution_count": 14,
   "id": "c69498fd-6316-4f2b-ac0f-670bbf7bb568",
   "metadata": {},
   "outputs": [
    {
     "name": "stdout",
     "output_type": "stream",
     "text": [
      "\n",
      "Yearly Summary:\n",
      "             Total Revenue  Net Income\n",
      "Fiscal Year                           \n",
      "2022                674.07      185.14\n",
      "2023                691.98      184.36\n",
      "2024                734.32      189.08\n"
     ]
    }
   ],
   "source": [
    "print(\"\\nYearly Summary:\")\n",
    "print(yearly_summary)"
   ]
  },
  {
   "cell_type": "markdown",
   "id": "cc9fc947-6860-4e94-92a2-a9c53e40cdbb",
   "metadata": {},
   "source": [
    "## Financial Analysis Summary\n",
    "\n",
    "### Revenue Growth Trends\n",
    "\n",
    "The calculated `Revenue Growth (%)` shows that:\n",
    "- **Microsoft**: Experienced consistent growth over the years.\n",
    "- **Apple**: Showed a slight decline in 2023 but recovered in 2024.\n",
    "- **Tesla**: Had significant fluctuations in revenue growth.\n",
    "\n",
    "### Net Income Growth Trends\n",
    "\n",
    "The `Net Income Growth (%)` indicates:\n",
    "- **Microsoft**: Maintained stable net income growth.\n",
    "- **Apple**: Faced a decrease in net income in 2023 but improved in 2024.\n",
    "- **Tesla**: Showed volatile net income growth rates.\n",
    "\n",
    "### Aggregate Statistics by Company\n",
    "\n",
    "The grouped statistics provide insights into the average, median, and standard deviation of financial metrics for each company:\n",
    "\n",
    "| Company   | Total Revenue (Mean) | Total Revenue (Median) | Total Revenue (Std) | Net Income (Mean) | Net Income (Median) | Net Income (Std) |\n",
    "|-----------|----------------------|------------------------|---------------------|-------------------|---------------------|------------------|\n",
    "| Apple     | 356.79               | 352.77                 | 7.11                | 97.80             | 97.00               | 8.93             |\n",
    "| Microsoft | 429.66               | 411.99                 | 75.27               | 72.37             | 72.74               | 24.33            |\n",
    "| Tesla     | 103.68               | 106.62                 | 20.08               | 14.99             | 12.60               | 5.98             |\n",
    "\n",
    "### Yearly Summary\n",
    "\n",
    "The yearly summary highlights the total revenue and net income across all companies for each fiscal year:\n",
    "\n",
    "| Fiscal Year | Total Revenue | Net Income |\n",
    "|-------------|---------------|------------|\n",
    "| 2022        | 674.07        | 185.14     |\n",
    "| 2023        | 691.98        | 184.36     |\n",
    "| 2024        | 734.32        | 189.08     |\n",
    "\n",
    "### Conclusion\n",
    "\n",
    "Overall, this comprehensive analysis provides valuable insights into the financial health and performance of Microsoft, Apple, and Tesla. Each company has shown distinct trends in revenue and net income growth, reflecting their unique market positions and strategies. The aggregate statistics and yearly summaries further support these observations, offering a broader perspective on the financial landscape of these tech giants."
   ]
  },
  {
   "cell_type": "code",
   "execution_count": 15,
   "id": "66fe0a6e-779e-4a95-8ed3-584a4320a7cf",
   "metadata": {},
   "outputs": [
    {
     "name": "stdout",
     "output_type": "stream",
     "text": [
      "Collecting pandoc\n",
      "  Downloading pandoc-2.4.tar.gz (34 kB)\n",
      "  Preparing metadata (setup.py): started\n",
      "  Preparing metadata (setup.py): finished with status 'done'\n",
      "Collecting plumbum\n",
      "  Downloading plumbum-1.9.0-py3-none-any.whl (127 kB)\n",
      "     ------------------------------------ 128.0/128.0 kB 259.9 kB/s eta 0:00:00\n",
      "Collecting ply\n",
      "  Downloading ply-3.11-py2.py3-none-any.whl (49 kB)\n",
      "     --------------------------------------- 49.6/49.6 kB 81.1 kB/s eta 0:00:00\n",
      "Requirement already satisfied: pywin32 in c:\\users\\efuet\\appdata\\local\\programs\\python\\python310\\lib\\site-packages (from plumbum->pandoc) (308)\n",
      "Installing collected packages: ply, plumbum, pandoc\n",
      "  Running setup.py install for pandoc: started\n",
      "  Running setup.py install for pandoc: finished with status 'done'\n",
      "Successfully installed pandoc-2.4 plumbum-1.9.0 ply-3.11\n",
      "Note: you may need to restart the kernel to use updated packages.\n"
     ]
    },
    {
     "name": "stderr",
     "output_type": "stream",
     "text": [
      "  DEPRECATION: pandoc is being installed using the legacy 'setup.py install' method, because it does not have a 'pyproject.toml' and the 'wheel' package is not installed. pip 23.1 will enforce this behaviour change. A possible replacement is to enable the '--use-pep517' option. Discussion can be found at https://github.com/pypa/pip/issues/8559\n",
      "\n",
      "[notice] A new release of pip available: 22.3.1 -> 25.0.1\n",
      "[notice] To update, run: python.exe -m pip install --upgrade pip\n"
     ]
    }
   ],
   "source": [
    "pip install pandoc"
   ]
  },
  {
   "cell_type": "code",
   "execution_count": null,
   "id": "a141ae97-fc70-4036-9722-7df310f8ab0d",
   "metadata": {},
   "outputs": [],
   "source": []
  }
 ],
 "metadata": {
  "kernelspec": {
   "display_name": "Python 3 (ipykernel)",
   "language": "python",
   "name": "python3"
  },
  "language_info": {
   "codemirror_mode": {
    "name": "ipython",
    "version": 3
   },
   "file_extension": ".py",
   "mimetype": "text/x-python",
   "name": "python",
   "nbconvert_exporter": "python",
   "pygments_lexer": "ipython3",
   "version": "3.10.9"
  }
 },
 "nbformat": 4,
 "nbformat_minor": 5
}
